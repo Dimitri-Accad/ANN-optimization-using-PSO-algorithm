{
 "cells": [
  {
   "cell_type": "markdown",
   "metadata": {},
   "source": [
    "# Biologically Inspired Computation (F20BC/F21BC)\n",
    "\n",
    "Clarence Deltel (ced2) <br />\n",
    "H00330739 <br />\n",
    "\n",
    "Dimitri Accad (dsa2) <br />\n",
    "H00330740 <br />"
   ]
  },
  {
   "cell_type": "markdown",
   "metadata": {},
   "source": [
    "### Import of the libraries"
   ]
  },
  {
   "cell_type": "code",
   "execution_count": null,
   "metadata": {},
   "outputs": [],
   "source": [
    "import numpy as np\n",
    "import pandas as pd\n",
    "import os \n",
    "import random\n",
    "from random import uniform\n",
    "import numpy as np\n",
    "import copy\n",
    "import matplotlib.pyplot as plt\n",
    "from IPython.display import display, clear_output\n",
    "from mpl_toolkits import mplot3d\n"
   ]
  },
  {
   "cell_type": "markdown",
   "metadata": {},
   "source": [
    "### Loading data"
   ]
  },
  {
   "cell_type": "code",
   "execution_count": 2,
   "metadata": {},
   "outputs": [
    {
     "name": "stdout",
     "output_type": "stream",
     "text": [
      "\n",
      " dict_keys(['1in_cubic.txt', '1in_linear.txt', '1in_sine.txt', '1in_tanh.txt', '2in_complex.txt', '2in_xor.txt'])\n"
     ]
    }
   ],
   "source": [
    "datafilelist = os.listdir('./Data')\n",
    "datafilelist.sort()\n",
    "\n",
    "all_data = {}\n",
    "\n",
    "for i in datafilelist[0:4]:\n",
    "    tmp_data = pd.read_csv(\"Data/\"+i, delim_whitespace=True, header=None,names=[\"X\", \"Y\"])\n",
    "    all_data[i] = tmp_data\n",
    "for i in datafilelist[4:]:    \n",
    "    tmp_data = pd.read_csv(\"Data/\"+i, delim_whitespace=True, header=None,names=[\"X\", \"Y\",\"Z\"])\n",
    "    all_data[i] = tmp_data\n",
    "    \n",
    "print(\"\\n\",all_data.keys())"
   ]
  },
  {
   "cell_type": "markdown",
   "metadata": {},
   "source": [
    "### 1. Implemention of a multi-layer ANN architecture\n",
    "\n",
    "First of all, we implemented different activation functions"
   ]
  },
  {
   "cell_type": "code",
   "execution_count": 3,
   "metadata": {},
   "outputs": [
    {
     "name": "stdout",
     "output_type": "stream",
     "text": [
      "Function list : ['sigmoid', 'null', 'tanh', 'cos', 'gauss', 'sin', 'reLU']\n"
     ]
    }
   ],
   "source": [
    "def sigmoid(z):\n",
    "    \"\"\"\n",
    "    Computes the sigmoid of z.\n",
    "    \"\"\"\n",
    "    return (1.0/(1.0+np.exp(-z)))\n",
    "\n",
    "def null(z):\n",
    "    \"\"\"\n",
    "    Computes the Null of z.\n",
    "    \"\"\"\n",
    "    return 0\n",
    "\n",
    "def tanh(z):\n",
    "    \"\"\"\n",
    "    Computes the Hyperbolic Tangent of z.\n",
    "    \"\"\"\n",
    "    return np.tanh(z)\n",
    "\n",
    "def cos(z):\n",
    "    \"\"\"\n",
    "    Computes the Cosin of z.\n",
    "    \"\"\"\n",
    "    return np.cos(z)\n",
    "\n",
    "def gauss(z):\n",
    "    \"\"\"\n",
    "    Computes the Gaussian of z.\n",
    "    \"\"\"\n",
    "    return np.exp(-((z**2)/2))\n",
    "\n",
    "def sin(z):\n",
    "    \"\"\"\n",
    "    Computes the Gaussian of z.\n",
    "    \"\"\"\n",
    "    return np.sin(z)\n",
    "\n",
    "\n",
    "def reLU(z):\n",
    "    size = z.shape\n",
    "    for i in range (size[0]):\n",
    "        for j in range (size[1]):\n",
    "            if(z[i,j]<0):\n",
    "                z[i,j]= 0\n",
    "            elif(z[i,j]>= 0):\n",
    "                z[i,j] = z[i,j]\n",
    "    return z\n",
    "\n",
    "function_list=[\"sigmoid\",\"null\",\"tanh\",\"cos\",\"gauss\",\"sin\",\"reLU\"]\n",
    "print(\"Function list :\",function_list)"
   ]
  },
  {
   "cell_type": "markdown",
   "metadata": {},
   "source": [
    "#### Creation of the list of weight's matrix"
   ]
  },
  {
   "cell_type": "code",
   "execution_count": 4,
   "metadata": {},
   "outputs": [],
   "source": [
    "def ThetaListGen(n_hidden_layer,n_neuron_layer,space_dim,D):\n",
    "    ThetaList =[]\n",
    "    for i in range (n_hidden_layer+1):\n",
    "        if (i==0):#first layer\n",
    "            #input dimension checking\n",
    "            if(D==1):\n",
    "                Theta=np.random.uniform(-space_dim,space_dim,(1,n_neuron_layer[i]))\n",
    "                ThetaList.append(Theta)\n",
    "            elif(D==2):\n",
    "                Theta=np.random.uniform(-space_dim,space_dim,(2,n_neuron_layer[i]))\n",
    "                ThetaList.append(Theta)\n",
    "        if (i==n_hidden_layer): #last layer\n",
    "            Theta=np.random.uniform(-space_dim,space_dim,(n_neuron_layer[i-1],1))\n",
    "            ThetaList.append(Theta)\n",
    "            return ThetaList\n",
    "        elif (i != 0 and i!=n_hidden_layer):\n",
    "            Theta=np.random.uniform(-space_dim,space_dim,(n_neuron_layer[i-1],n_neuron_layer[i]))\n",
    "            ThetaList.append(Theta)"
   ]
  },
  {
   "cell_type": "markdown",
   "metadata": {},
   "source": [
    "#### Flattening the weight list for the ANN Particule position"
   ]
  },
  {
   "cell_type": "code",
   "execution_count": 5,
   "metadata": {},
   "outputs": [],
   "source": [
    "def MatrixFlattening(ThetaList):\n",
    "    layer=len(ThetaList)\n",
    "    vector_position=[]\n",
    "    for i in range(layer):\n",
    "        vector_position.extend(ThetaList[i].flatten())\n",
    "    return vector_position"
   ]
  },
  {
   "cell_type": "markdown",
   "metadata": {},
   "source": [
    "#### Rebuild of the weight list from the position vector"
   ]
  },
  {
   "cell_type": "code",
   "execution_count": 6,
   "metadata": {},
   "outputs": [],
   "source": [
    "def MatrixConcentrate(flat,n_hidden_layer,n_neuron_layer,D):\n",
    "    ThetaList =[]\n",
    "    position1=0\n",
    "    for i in range (n_hidden_layer+1):\n",
    "        if (i==0):#first layer\n",
    "            #input dimension checking\n",
    "            if(D==1):\n",
    "                position2=position1+n_neuron_layer[i]*1\n",
    "                A = flat[position1:position2]\n",
    "                Theta = np.reshape(A, (-1, n_neuron_layer[i]))\n",
    "                ThetaList.append(Theta)\n",
    "            elif(D==2):\n",
    "                position2=position1+n_neuron_layer[i]*2\n",
    "                A = flat[position1:position2]\n",
    "                Theta = np.reshape(A, (2, n_neuron_layer[i]))\n",
    "                ThetaList.append(Theta)\n",
    "        if (i==n_hidden_layer):#last layer\n",
    "            position1=position2\n",
    "            position2=position1+n_neuron_layer[i-1]*1\n",
    "            A = flat[position1:position2]\n",
    "            Theta = np.reshape(A, (n_neuron_layer[i-1], -1))\n",
    "            ThetaList.append(Theta)\n",
    "            return ThetaList            \n",
    "        elif (i != 0 and i!=n_hidden_layer):\n",
    "            position1=position2\n",
    "            position2=position1+n_neuron_layer[i]*n_neuron_layer[i-1]\n",
    "            A = flat[position1:position2]\n",
    "            Theta = np.reshape(A, (-1, n_neuron_layer[i]))\n",
    "            ThetaList.append(Theta)        \n"
   ]
  },
  {
   "cell_type": "markdown",
   "metadata": {},
   "source": [
    "#### ANN prediction from weight list, input and activation function : Feedforward propagation"
   ]
  },
  {
   "cell_type": "code",
   "execution_count": 7,
   "metadata": {},
   "outputs": [],
   "source": [
    "def ANN(X,ThetaList,function,D):\n",
    "    number_of_layer=len(ThetaList)\n",
    "    g1=np.array(X)\n",
    "    \n",
    "    for i in range(number_of_layer):\n",
    "        Theta=np.array(ThetaList[i])\n",
    "        g1= globals()[function](np.dot(Theta.T,g1));\n",
    "    #input dimension checking\n",
    "    if (D==1):\n",
    "        return g1[0][0]\n",
    "    elif (D==2):\n",
    "        return g1[0]"
   ]
  },
  {
   "cell_type": "markdown",
   "metadata": {},
   "source": [
    "#### List of predictions"
   ]
  },
  {
   "cell_type": "code",
   "execution_count": 8,
   "metadata": {},
   "outputs": [],
   "source": [
    "def getPredic (X_list,ThetaList,function,D):\n",
    "    y_predict=[]\n",
    "    #input dimension checking\n",
    "    if (D==1):\n",
    "        for i in X_list:\n",
    "            y_predict.append(ANN(i,ThetaList,function,D))\n",
    "    elif (D==2):\n",
    "        X=X_list[0]\n",
    "        Y=X_list[1]\n",
    "        for i in range (len(X)):\n",
    "            a= [X[i],Y[i]]\n",
    "            y_predict.append(ANN(a,ThetaList,function,D))\n",
    "            \n",
    "    return y_predict"
   ]
  },
  {
   "cell_type": "markdown",
   "metadata": {},
   "source": [
    "#### Mean square error"
   ]
  },
  {
   "cell_type": "code",
   "execution_count": 9,
   "metadata": {},
   "outputs": [],
   "source": [
    "def MSE(y_true, y_predict ):\n",
    "    MSE=0;\n",
    "    for i in range (len(y_true)):\n",
    "        MSE=MSE+((y_true[i]-y_predict[i])**2)\n",
    "   \n",
    "    MSE=MSE/len(y_true)\n",
    "\n",
    "    return MSE"
   ]
  },
  {
   "cell_type": "markdown",
   "metadata": {},
   "source": [
    "### 2. Implement a PSO algorithm\n",
    "\n",
    "#### Hyper Parameter : PSO"
   ]
  },
  {
   "cell_type": "code",
   "execution_count": 10,
   "metadata": {},
   "outputs": [],
   "source": [
    "swarmsize = 50\n",
    "ret_velo = 0.5\n",
    "ret_persoBest = 0.8\n",
    "ret_informants = 0.5\n",
    "ret_globalBest = 0.2\n",
    "jumpSize = 0.5\n",
    "precision_treshold = 0.0001 \n",
    "max_iteration=50"
   ]
  },
  {
   "cell_type": "markdown",
   "metadata": {},
   "source": [
    "#### Hyper Parameter : ANN"
   ]
  },
  {
   "cell_type": "code",
   "execution_count": 11,
   "metadata": {},
   "outputs": [
    {
     "name": "stdout",
     "output_type": "stream",
     "text": [
      "Activation function list :  ['sigmoid', 'null', 'tanh', 'cos', 'gauss', 'sin', 'reLU']\n"
     ]
    }
   ],
   "source": [
    "print(\"Activation function list : \",function_list)\n"
   ]
  },
  {
   "cell_type": "code",
   "execution_count": 12,
   "metadata": {},
   "outputs": [],
   "source": [
    "space_dim = 3\n",
    "\n",
    "n_neuron_layer = [6,5,4,3]\n",
    "n_hidden_layer = len(n_neuron_layer)\n",
    "activation_function = function_list[2]"
   ]
  },
  {
   "cell_type": "markdown",
   "metadata": {},
   "source": [
    "#### Functions to predict"
   ]
  },
  {
   "cell_type": "code",
   "execution_count": 13,
   "metadata": {},
   "outputs": [
    {
     "name": "stdout",
     "output_type": "stream",
     "text": [
      "Data to predict : \n",
      " dict_keys(['1in_cubic.txt', '1in_linear.txt', '1in_sine.txt', '1in_tanh.txt', '2in_complex.txt', '2in_xor.txt'])\n"
     ]
    }
   ],
   "source": [
    "print(\"Data to predict : \\n\",all_data.keys())"
   ]
  },
  {
   "cell_type": "code",
   "execution_count": 14,
   "metadata": {},
   "outputs": [],
   "source": [
    "function_to_predict=all_data['1in_cubic.txt']\n",
    "D=1"
   ]
  },
  {
   "cell_type": "markdown",
   "metadata": {},
   "source": [
    "#### Class Particle"
   ]
  },
  {
   "cell_type": "code",
   "execution_count": 15,
   "metadata": {},
   "outputs": [],
   "source": [
    "class Particle():\n",
    "\n",
    "    def __init__(self):\n",
    "        \n",
    "        self.part_weight_matrix = ThetaListGen(n_hidden_layer,n_neuron_layer,space_dim,D)\n",
    "        self.part_position = MatrixFlattening(self.part_weight_matrix)\n",
    "        self.part_best_position = self.part_position \n",
    "        num_dim = len(self.part_position)\n",
    "        self.part_velocity = np.random.uniform(-1,1,(1,num_dim))[0]\n",
    "    def getBestPosition(self):\n",
    "        return self.part_best_position\n",
    "    def getCurrPosition(self):\n",
    "        return self.part_position\n",
    "    def getVelocity(self):\n",
    "        return self.part_velocity\n",
    "    \n",
    "    def getFitness(self):\n",
    "        #input dimension checking\n",
    "        if (D==1):\n",
    "            prediction = getPredic (function_to_predict[\"X\"],self.part_weight_matrix,activation_function,D)\n",
    "            fitness = MSE(function_to_predict[\"Y\"], prediction )\n",
    "        if(D==2):\n",
    "            prediction = getPredic([function_to_predict[\"X\"],function_to_predict[\"Y\"]],self.part_weight_matrix,activation_function,D)\n",
    "            fitness = MSE(function_to_predict[\"Z\"], prediction )\n",
    "        \n",
    "        return fitness\n",
    "    \n",
    "    def getThetaMatrix(self):\n",
    "        return self.part_weight_matrix \n",
    "        "
   ]
  },
  {
   "cell_type": "markdown",
   "metadata": {},
   "source": [
    "#### The PSO algorithm\n",
    "##### Initialization of the swarm"
   ]
  },
  {
   "cell_type": "code",
   "execution_count": 16,
   "metadata": {},
   "outputs": [
    {
     "data": {
      "image/png": "[encoded data removed]",
      "text/plain": [
       "<Figure size 432x288 with 1 Axes>"
      ]
     },
     "metadata": {},
     "output_type": "display_data"
    },
    {
     "name": "stdout",
     "output_type": "stream",
     "text": [
      "33  : best fitness : 0.01088735622426071\n",
      "34  : best fitness : 0.01088735622426071\n",
      "35  : best fitness : 0.01088735622426071\n",
      "36  : best fitness : 0.01088735622426071\n",
      "37  : best fitness : 0.01088735622426071\n",
      "38  : best fitness : 0.01088735622426071\n",
      "39  : best fitness : 0.01088735622426071\n",
      "40  : best fitness : 0.01088735622426071\n",
      "41  : best fitness : 0.01088735622426071\n",
      "42  : best fitness : 0.01088735622426071\n",
      "43  : best fitness : 0.01088735622426071\n",
      "44  : best fitness : 0.01088735622426071\n",
      "45  : best fitness : 0.01088735622426071\n",
      "46  : best fitness : 0.01088735622426071\n",
      "47  : best fitness : 0.01088735622426071\n",
      "48  : best fitness : 0.01088735622426071\n",
      "49  : best fitness : 0.01088735622426071\n",
      "50  : best fitness : 0.01088735622426071\n"
     ]
    },
    {
     "data": {
      "image/png": "[encoded data removed]",
      "text/plain": [
       "<Figure size 432x288 with 1 Axes>"
      ]
     },
     "metadata": {
      "needs_background": "light"
     },
     "output_type": "display_data"
    }
   ],
   "source": [
    "P=[]\n",
    "for i in range(0,swarmsize):\n",
    "    P.append(Particle())\n",
    "\n",
    "gBest_fitness = float('inf') \n",
    "gBest_position = [None] * len(P[0].getCurrPosition())\n",
    "\n",
    "%matplotlib inline\n",
    "import time\n",
    "import pylab as pl\n",
    "from IPython import display\n",
    "\n",
    "if (D==1):\n",
    "    pl.plot(function_to_predict[\"X\"],function_to_predict[\"Y\"])\n",
    "    display.clear_output(wait=True)\n",
    "    display.display(pl.gcf())\n",
    "    time.sleep(1.0)\n",
    "    \n",
    "if (D==2):\n",
    "    ax = plt.axes(projection='3d')\n",
    "    ax.plot3D(function_to_predict[\"X\"], function_to_predict[\"Y\"], function_to_predict[\"Z\"], 'o')#,function_to_predict[\"X\"], function_to_predict[\"Y\"], function_to_predict[\"Z\"], '-o')\n",
    "    display.clear_output(wait=True)\n",
    "    display.display(pl.gcf())\n",
    "    time.sleep(1.0)\n",
    "    \n",
    "old_y=[]   \n",
    "iteration=0\n",
    "\n",
    "while (gBest_fitness > precision_treshold and iteration<max_iteration):\n",
    "    #return gBest_position from all the particles\n",
    "    for Particle_p in P:\n",
    "        pFitness = Particle_p.getFitness() #assess fitness\n",
    "        if gBest_fitness == float('inf') or pFitness < gBest_fitness:\n",
    "            gBest_fitness = pFitness\n",
    "            gBest_position = Particle_p.getBestPosition()\n",
    "            BestParticle = copy.copy(Particle_p)\n",
    "       \n",
    "    for Particle_j in P:\n",
    "        temp_list = P.copy()\n",
    "        temp_list.remove(Particle_j)\n",
    "        P_informants = random.choices(temp_list, k=5)\n",
    "        P_informants.append(Particle_j)\n",
    "        infoBest_fitness = float('inf')\n",
    "        \n",
    "        for Particle_i in P_informants:\n",
    "            pFitness = Particle_i.getFitness() #calculate fitness between informants!\n",
    "            if pFitness < infoBest_fitness:\n",
    "                infoBest_fitness = pFitness\n",
    "                infoBest_position = Particle_i.getBestPosition()\n",
    "        \n",
    "        vel_temp=[]\n",
    "        for i in range(len(Particle_j.getCurrPosition())):\n",
    "            b = uniform(0,ret_persoBest)\n",
    "            c = uniform(0,ret_informants)\n",
    "            d = uniform(0,ret_globalBest)\n",
    "\n",
    "            \n",
    "            new_vi = ret_velo*Particle_j.getVelocity()[i] + \\\n",
    "            b*(Particle_j.getBestPosition()[i]-Particle_j.getCurrPosition()[i]) + \\\n",
    "            c*(infoBest_position[i]-Particle_j.getCurrPosition()[i]) + \\\n",
    "            d*(gBest_position[i]-Particle_j.getCurrPosition()[i])\n",
    "            \n",
    "            vel_temp.append(new_vi)\n",
    "            \n",
    "        \n",
    "        Particle_j.part_velocity = vel_temp\n",
    "    \n",
    "    \n",
    "    for Particle_x in P:\n",
    "        pos_temp = []\n",
    "        for i in range(len(Particle_x.getCurrPosition())):\n",
    "            new_po = Particle_x.getCurrPosition()[i] + jumpSize * Particle_x.getVelocity()[i]\n",
    "            pos_temp.append(new_po)\n",
    "        Particle_x.part_position = pos_temp\n",
    "        Particle_x.part_weight_matrix = MatrixConcentrate(Particle_x.part_position,n_hidden_layer,n_neuron_layer,D)\n",
    "        \n",
    "    if (D==2):\n",
    "        y_pred=getPredic([function_to_predict[\"X\"],function_to_predict[\"Y\"]],BestParticle.part_weight_matrix,activation_function,D) \n",
    "    elif (D==1):\n",
    "        y_pred = getPredic (function_to_predict[\"X\"],BestParticle.part_weight_matrix,activation_function,D)        \n",
    "            \n",
    "            \n",
    "    print(iteration,\" : best fitness :\",gBest_fitness)\n",
    "    if(old_y != y_pred):\n",
    "        if (D==1):\n",
    "            pl.plot(function_to_predict[\"X\"],y_pred)\n",
    "            display.clear_output(wait=True)\n",
    "            display.display(pl.gcf())\n",
    "            old_y=y_pred.copy()\n",
    "        if (D==2):\n",
    "            ax.plot3D(function_to_predict[\"X\"], function_to_predict[\"Y\"], y_pred, '+')\n",
    "            display.clear_output(wait=True)\n",
    "            display.display(pl.gcf())\n",
    "            old_y=y_pred.copy()\n",
    "   \n",
    "    iteration=iteration+1   \n",
    "\n",
    "print(iteration,\" : best fitness :\",gBest_fitness)"
   ]
  },
  {
   "cell_type": "markdown",
   "metadata": {},
   "source": [
    "#### Graph of the predicted value from the best Particle"
   ]
  },
  {
   "cell_type": "code",
   "execution_count": 18,
   "metadata": {
    "scrolled": false
   },
   "outputs": [
    {
     "data": {
      "image/png": "[encoded data removed]",
      "text/plain": [
       "<Figure size 432x288 with 1 Axes>"
      ]
     },
     "metadata": {
      "needs_background": "light"
     },
     "output_type": "display_data"
    }
   ],
   "source": [
    "ThetaList=BestParticle.getThetaMatrix()\n",
    "if (D==2):\n",
    "    y_pred=getPredic([function_to_predict[\"X\"],function_to_predict[\"Y\"]],ThetaList,activation_function,D)\n",
    "    plt.plot(function_to_predict[\"X\"],function_to_predict[\"Z\"],'+',function_to_predict[\"X\"],y_pred,'+' )\n",
    "    plt.show()\n",
    "    plt.plot(function_to_predict[\"Y\"],function_to_predict[\"Z\"],'+',function_to_predict[\"Y\"],y_pred,'+' )\n",
    "    plt.show()\n",
    "    ax = plt.axes(projection='3d')\n",
    "    ax.plot3D(function_to_predict[\"X\"], function_to_predict[\"Y\"], function_to_predict[\"Z\"], '+')#,function_to_predict[\"X\"], function_to_predict[\"Y\"], function_to_predict[\"Z\"], '-o')\n",
    "    ax.plot3D(function_to_predict[\"X\"], function_to_predict[\"Y\"], y_pred, '.')\n",
    "    \n",
    "elif (D==1):\n",
    "    y_pred = getPredic (function_to_predict[\"X\"],ThetaList,activation_function,D)\n",
    "    plt.plot(function_to_predict[\"X\"],function_to_predict[\"Y\"],'+',function_to_predict[\"X\"],y_pred,'+' )\n",
    "    plt.show()"
   ]
  },
  {
   "cell_type": "code",
   "execution_count": null,
   "metadata": {},
   "outputs": [],
   "source": []
  }
 ],
 "metadata": {
  "kernelspec": {
   "display_name": "Python 3",
   "language": "python",
   "name": "python3"
  },
  "language_info": {
   "codemirror_mode": {
    "name": "ipython",
    "version": 3
   },
   "file_extension": ".py",
   "mimetype": "text/x-python",
   "name": "python",
   "nbconvert_exporter": "python",
   "pygments_lexer": "ipython3",
   "version": "3.7.4"
  }
 },
 "nbformat": 4,
 "nbformat_minor": 2
}
